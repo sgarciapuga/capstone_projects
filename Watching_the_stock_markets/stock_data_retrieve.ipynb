{
 "cells": [
  {
   "cell_type": "code",
   "execution_count": 46,
   "metadata": {},
   "outputs": [],
   "source": [
    "import pandas as pd\n",
    "import pandas_datareader as web\n",
    "import requests_cache\n",
    "import datetime"
   ]
  },
  {
   "cell_type": "code",
   "execution_count": 47,
   "metadata": {},
   "outputs": [],
   "source": [
    "# caching queries https://pandas-datareader.readthedocs.io/en/latest/cache.html\n",
    "expire_after = datetime.timedelta(days=3)\n",
    "session = requests_cache.CachedSession(cache_name='cache', backend='sqlite', expire_after=expire_after)\n",
    "\n",
    "# this is the list of stocks we want to use\n",
    "stocks = [\n",
    "    'TSLA', 'UAL', 'LRCX', 'IDXX', 'SBUX'\n",
    "          ]\n",
    "\n",
    "# period of historical data\n",
    "start_date = \"2019-01-01\"\n",
    "end_date = \"2020-12-28\"\n",
    "\n",
    "# we get the data and its converted to a pandas dataframe\n",
    "stock_data = web.get_data_yahoo(stocks, start_date, end_date, session=session)['Adj Close']"
   ]
  },
  {
   "cell_type": "code",
   "execution_count": 48,
   "metadata": {},
   "outputs": [],
   "source": [
    "# corvert names of columns\n",
    "stock_data = stock_data.stack().reset_index().rename(index=str, columns={\"Date\": \"date\", \"Symbols\": \"symbol\", 0: \"price\"})"
   ]
  },
  {
   "cell_type": "code",
   "execution_count": 49,
   "metadata": {},
   "outputs": [
    {
     "data": {
      "text/html": [
       "<div>\n",
       "<style scoped>\n",
       "    .dataframe tbody tr th:only-of-type {\n",
       "        vertical-align: middle;\n",
       "    }\n",
       "\n",
       "    .dataframe tbody tr th {\n",
       "        vertical-align: top;\n",
       "    }\n",
       "\n",
       "    .dataframe thead th {\n",
       "        text-align: right;\n",
       "    }\n",
       "</style>\n",
       "<table border=\"1\" class=\"dataframe\">\n",
       "  <thead>\n",
       "    <tr style=\"text-align: right;\">\n",
       "      <th></th>\n",
       "      <th>date</th>\n",
       "      <th>symbol</th>\n",
       "      <th>price</th>\n",
       "    </tr>\n",
       "  </thead>\n",
       "  <tbody>\n",
       "    <tr>\n",
       "      <td>0</td>\n",
       "      <td>2019-01-02</td>\n",
       "      <td>TSLA</td>\n",
       "      <td>310.119995</td>\n",
       "    </tr>\n",
       "    <tr>\n",
       "      <td>1</td>\n",
       "      <td>2019-01-02</td>\n",
       "      <td>UAL</td>\n",
       "      <td>84.180000</td>\n",
       "    </tr>\n",
       "    <tr>\n",
       "      <td>2</td>\n",
       "      <td>2019-01-02</td>\n",
       "      <td>LRCX</td>\n",
       "      <td>135.398315</td>\n",
       "    </tr>\n",
       "    <tr>\n",
       "      <td>3</td>\n",
       "      <td>2019-01-02</td>\n",
       "      <td>IDXX</td>\n",
       "      <td>182.460007</td>\n",
       "    </tr>\n",
       "    <tr>\n",
       "      <td>4</td>\n",
       "      <td>2019-01-02</td>\n",
       "      <td>SBUX</td>\n",
       "      <td>63.134506</td>\n",
       "    </tr>\n",
       "  </tbody>\n",
       "</table>\n",
       "</div>"
      ],
      "text/plain": [
       "        date symbol       price\n",
       "0 2019-01-02   TSLA  310.119995\n",
       "1 2019-01-02    UAL   84.180000\n",
       "2 2019-01-02   LRCX  135.398315\n",
       "3 2019-01-02   IDXX  182.460007\n",
       "4 2019-01-02   SBUX   63.134506"
      ]
     },
     "execution_count": 49,
     "metadata": {},
     "output_type": "execute_result"
    }
   ],
   "source": [
    "# let´s see the result\n",
    "stock_data.head()"
   ]
  },
  {
   "cell_type": "code",
   "execution_count": 50,
   "metadata": {},
   "outputs": [],
   "source": [
    "#we can now export to csv file\n",
    "export_csv = stock_data.to_csv(\"stock_data.csv\", index=False)"
   ]
  }
 ],
 "metadata": {
  "kernelspec": {
   "display_name": "Python 3",
   "language": "python",
   "name": "python3"
  },
  "language_info": {
   "codemirror_mode": {
    "name": "ipython",
    "version": 3
   },
   "file_extension": ".py",
   "mimetype": "text/x-python",
   "name": "python",
   "nbconvert_exporter": "python",
   "pygments_lexer": "ipython3",
   "version": "3.7.4"
  }
 },
 "nbformat": 4,
 "nbformat_minor": 2
}
