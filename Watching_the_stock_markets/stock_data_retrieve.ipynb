{
 "cells": [
  {
   "cell_type": "code",
   "execution_count": 18,
   "metadata": {},
   "outputs": [],
   "source": [
    "import pandas as pd"
   ]
  },
  {
   "cell_type": "code",
   "execution_count": 51,
   "metadata": {},
   "outputs": [],
   "source": [
    "tesla = pd.read_csv(\"TSLA.csv\")\n",
    "ual = pd.read_csv(\"UAL.csv\")\n",
    "lrcx = pd.read_csv(\"LRCX.csv\")\n",
    "idxx = pd.read_csv(\"IDXX.csv\")\n",
    "sbux = pd.read_csv(\"SBUX.csv\")"
   ]
  },
  {
   "cell_type": "code",
   "execution_count": 52,
   "metadata": {},
   "outputs": [],
   "source": [
    "name_tesla = ['TSLA:NASDAQ', 'Tesla Inc']\n",
    "name_ual = [\"UAL:NASDAQ\", \"United Airlines Holdings Inc\"]\n",
    "name_lrcx = ['LRCX:NASDAQ', 'Lam Research Corp']\n",
    "name_idxx = ['IDXX:NASDAQ', \"IDEXX Laboratories Inc\"]\n",
    "name_sbux = [\"SBUX:NASDAQ\", \"Starbucks Corp\"]"
   ]
  },
  {
   "cell_type": "code",
   "execution_count": 53,
   "metadata": {},
   "outputs": [],
   "source": [
    "def format_data(dataframe, name):\n",
    "    dataframe['symbol'], dataframe['name'] = name\n",
    "    columns_order = [\"symbol\", \"name\", \"Date\", \"Adj Close\"]\n",
    "    dataframe = dataframe[columns_order]\n",
    "    return dataframe"
   ]
  },
  {
   "cell_type": "code",
   "execution_count": 54,
   "metadata": {},
   "outputs": [],
   "source": [
    "tesla = format_data(tesla, name_tesla)\n",
    "ual = format_data(ual, name_ual)\n",
    "lrcx = format_data(lrcx, name_lrcx)\n",
    "idxx = format_data(idxx, name_idxx)\n",
    "sbux = format_data(sbux, name_sbux)"
   ]
  },
  {
   "cell_type": "code",
   "execution_count": 55,
   "metadata": {},
   "outputs": [],
   "source": [
    "stocks_data = pd.concat([tesla, ual, lrcx, idxx, sbux]).reset_index(drop=True)\n",
    "stocks_data.rename(columns={\"Date\": \"datetime\", \"Adj Close\": \"price\"}, inplace=True)"
   ]
  },
  {
   "cell_type": "code",
   "execution_count": 56,
   "metadata": {},
   "outputs": [],
   "source": [
    "export_csv = stocks_data.to_csv(\"stocks_data.csv\", index=False)"
   ]
  }
 ],
 "metadata": {
  "kernelspec": {
   "display_name": "Python 3",
   "language": "python",
   "name": "python3"
  },
  "language_info": {
   "codemirror_mode": {
    "name": "ipython",
    "version": 3
   },
   "file_extension": ".py",
   "mimetype": "text/x-python",
   "name": "python",
   "nbconvert_exporter": "python",
   "pygments_lexer": "ipython3",
   "version": "3.7.4"
  }
 },
 "nbformat": 4,
 "nbformat_minor": 2
}
