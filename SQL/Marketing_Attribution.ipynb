{
 "cells": [
  {
   "cell_type": "markdown",
   "metadata": {},
   "source": [
    "## Attribution Queries\n",
    "\n",
    "CoolTShirts sells shirts of all kinds, as long as they are T-shaped and cool. Recently, CTS started a few marketing campaigns to increase website visits and purchases. Using touch attribution, they’d like to map their customers’ journey: from initial visit to purchase. They can use that information to optimize their marketing campaigns. This project will guide you through some of that process.\n",
    "\n",
    "![schema](images/schema.png)"
   ]
  },
  {
   "cell_type": "markdown",
   "metadata": {},
   "source": [
    "1. How many campaigns and sources does CoolTShirts use? Which source is used for each campaign?\n",
    "\n",
    "Use three queries:\n",
    "\n",
    "- one for the number of distinct campaigns,\n",
    "\n",
    "```mysql\n",
    "SELECT COUNT(DISTINCT (utm_campaign))\n",
    "FROM page_visits\n",
    "```\n",
    "\n",
    "![atrib01](images/atrib01.png)"
   ]
  },
  {
   "cell_type": "markdown",
   "metadata": {},
   "source": [
    "- one for the number of distinct sources,\n",
    "```mysql\n",
    "SELECT COUNT(DISTINCT (utm_source))\n",
    "FROM page_visits;\n",
    "```\n",
    "\n",
    "![atrib02](images/atrib02.png)"
   ]
  },
  {
   "cell_type": "markdown",
   "metadata": {},
   "source": [
    "- one to find how they are related.\n",
    "\n",
    "```mysql\n",
    "SELECT DISTINCT (utm_source),\n",
    "utm_campaign\n",
    "FROM page_visits;\n",
    "```\n",
    "\n",
    "![atrib03](images/atrib03.png)"
   ]
  },
  {
   "cell_type": "markdown",
   "metadata": {},
   "source": [
    "2. What pages are on the CoolTShirts website?\n",
    "\n",
    "Find the distinct values of the page_name column.\n",
    "\n",
    "- one for the number of distinct sources,\n",
    "```mysql\n",
    "SELECT DISTINCT (page_name)\n",
    "FROM page_visits;\n",
    "```\n",
    "\n",
    "![atrib04](images/atrib04.png)"
   ]
  },
  {
   "cell_type": "markdown",
   "metadata": {},
   "source": [
    "3. How many first touches is each campaign responsible for?\n",
    "\n",
    "You’ll need to use the first-touch query from the lesson (also provided in the hint below). Group by campaign and count the number of first touches for each.\n",
    "\n",
    "```mysql\n",
    "WITH first_touch AS (\n",
    "    SELECT user_id,\n",
    "        MIN(timestamp) as first_touch_at\n",
    "    FROM page_visits\n",
    "    GROUP BY user_id),\n",
    "    ft_attr AS (\n",
    "  SELECT ft.user_id,\n",
    "         ft.first_touch_at,\n",
    "         pv.utm_source,\n",
    "         pv.utm_campaign\n",
    "  FROM first_touch ft\n",
    "  JOIN page_visits pv\n",
    "    ON ft.user_id = pv.user_id\n",
    "    AND ft.first_touch_at = pv.timestamp\n",
    ")\n",
    "SELECT ft_attr.utm_source as Source,\n",
    "       ft_attr.utm_campaign as Campaing,\n",
    "       COUNT(*) as number_first_touches\n",
    "FROM ft_attr\n",
    "GROUP BY 1, 2\n",
    "ORDER BY 3 DESC;\n",
    "```\n",
    "![atrib05](images/atrib05.png)"
   ]
  },
  {
   "cell_type": "markdown",
   "metadata": {},
   "source": [
    "4. How many last touches is each campaign responsible for?\n",
    "\n",
    "```mysql\n",
    "WITH last_touch AS (\n",
    "    SELECT user_id,\n",
    "        MAX(timestamp) as last_touch_at\n",
    "    FROM page_visits\n",
    "    GROUP BY user_id),\n",
    "    lt_attr AS (\n",
    "  SELECT lt.user_id,\n",
    "         lt.last_touch_at,\n",
    "         pv.utm_source,\n",
    "         pv.utm_campaign\n",
    "  FROM last_touch lt\n",
    "  JOIN page_visits pv\n",
    "    ON lt.user_id = pv.user_id\n",
    "    AND lt.last_touch_at = pv.timestamp\n",
    ")\n",
    "SELECT lt_attr.utm_source as Source,\n",
    "       lt_attr.utm_campaign as Campaing,\n",
    "       COUNT(*) as number_last_touches\n",
    "FROM lt_attr\n",
    "GROUP BY 1, 2\n",
    "ORDER BY 3 DESC;\n",
    "```\n",
    "```\n",
    "![atrib06](images/atrib06.png)"
   ]
  },
  {
   "cell_type": "markdown",
   "metadata": {},
   "source": [
    "5. How many visitors make a purchase?\n",
    "\n",
    "Count the distinct users who visited the page named 4 - purchase.\n",
    "\n",
    "```mysql\n",
    "SELECT COUNT(*)\n",
    "FROM page_visits\n",
    "WHERE page_name = \"4 - purchase\";\n",
    "```\n",
    "\n",
    "![atrib07](images/atrib07.png)"
   ]
  },
  {
   "cell_type": "markdown",
   "metadata": {},
   "source": [
    "6. How many last touches on the purchase page is each campaign responsible for?\n",
    "\n",
    "```mysql\n",
    "WITH last_touch AS (\n",
    "    SELECT user_id,\n",
    "        MAX(timestamp) as last_touch_at\n",
    "    FROM page_visits\n",
    "    WHERE page_name = '4 - purchase'\n",
    "    GROUP BY user_id),\n",
    "    lt_attr AS (\n",
    "  SELECT lt.user_id,\n",
    "         lt.last_touch_at,\n",
    "         pv.utm_source,\n",
    "         pv.utm_campaign\n",
    "  FROM last_touch lt\n",
    "  JOIN page_visits pv\n",
    "    ON lt.user_id = pv.user_id\n",
    "    AND lt.last_touch_at = pv.timestamp\n",
    ")\n",
    "SELECT lt_attr.utm_source as Source,\n",
    "       lt_attr.utm_campaign as Campaing,\n",
    "       COUNT(*) as number_last_touches\n",
    "FROM lt_attr\n",
    "GROUP BY 1, 2\n",
    "ORDER BY 3 DESC;\n",
    "```\n",
    "![atrib08](images/atrib08.png)"
   ]
  },
  {
   "cell_type": "markdown",
   "metadata": {},
   "source": [
    "7. CoolTShirts can re-invest in 5 campaigns. Given your findings in the project, which should they pick and why?"
   ]
  }
 ],
 "metadata": {
  "kernelspec": {
   "display_name": "Python 3",
   "language": "python",
   "name": "python3"
  },
  "language_info": {
   "codemirror_mode": {
    "name": "ipython",
    "version": 3
   },
   "file_extension": ".py",
   "mimetype": "text/x-python",
   "name": "python",
   "nbconvert_exporter": "python",
   "pygments_lexer": "ipython3",
   "version": "3.7.4"
  }
 },
 "nbformat": 4,
 "nbformat_minor": 2
}
