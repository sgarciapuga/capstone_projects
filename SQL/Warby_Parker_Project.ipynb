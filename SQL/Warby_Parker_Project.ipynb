{
 "cells": [
  {
   "cell_type": "markdown",
   "metadata": {},
   "source": [
    "# Usage Funnels with Warby Parker\n",
    "## Warby Parker\n",
    "\n",
    "In this project, you will analyze different Warby Parker’s marketing funnels in order to calculate conversion rates. Here are the funnels and the tables that you are given:\n",
    "\n",
    "### Quiz Funnel:\n",
    "\n",
    "- survey\n",
    "\n",
    "### Home Try-On Funnel:\n",
    "\n",
    "- quiz\n",
    "- home_try_on\n",
    "- purchase\n",
    "\n",
    "This project was a collaboration with Warby Parker’s Data Science team (thank you!) and uses fictional data."
   ]
  },
  {
   "cell_type": "markdown",
   "metadata": {},
   "source": [
    "1. To help users find their perfect frame, Warby Parker has a Style Quiz that has the following questions:\n",
    "\n",
    "  1. “What are you looking for?”\n",
    "  2. “What’s your fit?”\n",
    "  3. “Which shapes do you like?”\n",
    "  4. “Which colors do you like?”\n",
    "  5. “When was your last eye exam?”\n",
    "\n",
    "The users’ responses are stored in a table called survey.\n",
    "\n",
    "Select all columns from the first 10 rows. What columns does the table have?\n",
    "\n",
    "```mysql\n",
    "SELECT * FROM survey\n",
    "LIMIT 10;\n",
    "```\n",
    "![image01](images/image01.png)"
   ]
  },
  {
   "attachments": {},
   "cell_type": "markdown",
   "metadata": {},
   "source": [
    "2.\tUsers will “give up” at different points in the survey. Let’s analyze how many users move from Question 1 to Question 2, etc.\n",
    "\n",
    "Create a quiz funnel using the GROUP BY command.\n",
    "What is the number of responses for each question?\n",
    "\n",
    "```mysql\n",
    "SELECT question, \n",
    " COUNT (DISTINCT user_id)\n",
    "FROM survey\n",
    "GROUP BY 1;\n",
    "```\n",
    "![image02](images/image02.png)"
   ]
  },
  {
   "attachments": {},
   "cell_type": "markdown",
   "metadata": {},
   "source": [
    "3.\tUsing a spreadsheet program like Excel or Google Sheets, calculate the percentage of users who answer each question:\n",
    "\n",
    "![image03](images/image03.png)\n",
    "\n",
    "Which question(s) of the quiz have a lower completion rates?\n",
    "\n",
    "“When was your last eye exam?”\n",
    "\n",
    "What do you think is the reason?\n",
    "\n",
    "Probably because people do not like to admit that they do not like their eyes being examined"
   ]
  },
  {
   "attachments": {},
   "cell_type": "markdown",
   "metadata": {},
   "source": [
    "4.\tWarby Parker’s purchase funnel is:\n",
    "Take the Style Quiz → Home Try-On → Purchase the Perfect Pair of Glasses\n",
    "\n",
    "During the Home Try-On stage, we will be conducting an A/B Test:\n",
    "-\t50% of the users will get 3 pairs to try on \n",
    "-\t50% of the users will get 5 pairs to try on\n",
    "\n",
    "Let’s find out whether or not users who get more pairs to try on at home will be more likely to make a purchase.\n",
    "The data will be distributed across three tables:\n",
    "-\tQuiz\n",
    "-\thome_try_on\n",
    "-\tpurchase\n",
    "\n",
    "Examine the first five rows of each table\n",
    "What are the column names?\n",
    "\n",
    "```mysql\n",
    "SELECT * FROM quiz\n",
    "LIMIT 5;\n",
    "```\n",
    "```mysql\n",
    "SELECT * FROM home_try_on\n",
    "LIMIT 5;\n",
    "```\n",
    "```mysql\n",
    "SELECT * FROM purchase\n",
    "LIMIT 5;\n",
    "```\n",
    "![image04](images/image04.png)"
   ]
  },
  {
   "attachments": {},
   "cell_type": "markdown",
   "metadata": {},
   "source": [
    "5.\tWe’d like to create a new table with the following layout:\n",
    "\n",
    "![image05](images/image05.png)\n",
    "\n",
    " \n",
    "Each row will represent a single user from the browse table:\n",
    "-\tIf the user has any entries in home_try_on, then is_home_try_on will be ‘True’.\n",
    "-\tnumber_of_pairs comes from home_try_on table\n",
    "-\tIf the user has any entries in is_purchase, then is_purchase will be ‘True’.\n",
    "\n",
    "Use a LEFT JOIN to combine the three tables, starting with the top of the funnel (quiz) and ending with the bottom of the funnel (purchase)."
   ]
  },
  {
   "cell_type": "markdown",
   "metadata": {},
   "source": [
    "Select only the first 10 rows from this table (otherwise, the query will run really slowly).\n",
    "\n",
    "```mysql\n",
    "SELECT DISTINCT q.user_id,\n",
    " h.user_id IS NOT NULL AS \"is_home_try_on\",\n",
    " h.number_of_pairs,\n",
    " p.user_id IS NOT NULL AS \"is_purchase\"\n",
    "FROM quiz AS \"q\"\n",
    "LEFT JOIN home_try_on AS \"h\"\n",
    "ON q.user_id = h.user_id\n",
    "LEFT JOIN purchase AS \"p\"\n",
    "ON q.user_id = p.user_id\n",
    "LIMIT 10;\n",
    "```\n",
    "![image06](images/image06.png)"
   ]
  },
  {
   "cell_type": "markdown",
   "metadata": {},
   "source": [
    "6.\tOnce we have the data in this format, we can analyze it in several ways:\n",
    "-\tWe can calculate overall conversion rates by aggregating across all rows.\n",
    "\n",
    "```mysql\n",
    "WITH funnels AS (SELECT DISTINCT q.user_id,\n",
    " h.user_id IS NOT NULL AS \"is_home_try_on\",\n",
    " h.number_of_pairs,\n",
    " p.user_id IS NOT NULL AS \"is_purchase\"\n",
    "FROM quiz AS \"q\"\n",
    "LEFT JOIN home_try_on AS \"h\"\n",
    "ON q.user_id = h.user_id\n",
    "LEFT JOIN purchase AS \"p\"\n",
    "ON q.user_id = p.user_id)\n",
    "SELECT COUNT(user_id) AS \"customers\", SUM(is_home_try_on),\n",
    "SUM(is_purchase)\n",
    "FROM funnels;\n",
    "```\n",
    "![image07](images/image07.png)"
   ]
  },
  {
   "cell_type": "markdown",
   "metadata": {},
   "source": [
    "-\tWe can compare conversion from quiz→home_try_on and home_try_on→purchase.\n",
    "\n",
    "```mysql\n",
    "WITH funnels AS (SELECT DISTINCT q.user_id,\n",
    " h.user_id IS NOT NULL AS \"is_home_try_on\",\n",
    " h.number_of_pairs,\n",
    " p.user_id IS NOT NULL AS \"is_purchase\"\n",
    "FROM quiz AS \"q\"\n",
    "LEFT JOIN home_try_on AS \"h\"\n",
    "ON q.user_id = h.user_id\n",
    "LEFT JOIN purchase AS \"p\"\n",
    "ON q.user_id = p.user_id)\n",
    "SELECT COUNT(user_id) AS \"quiz\", SUM(is_home_try_on) AS \"home_try_on\",\n",
    "SUM(is_purchase) AS \"purchase\",\n",
    "1.0 * SUM(is_home_try_on) / COUNT(user_id) AS \"quiz_home_try\",\n",
    "1.0 * SUM(is_purchase)/ SUM(is_home_try_on) AS \"home_try_purchase\"\n",
    "FROM funnels;\n",
    "```\n",
    "\n",
    "![image08](images/image08.png)"
   ]
  },
  {
   "cell_type": "markdown",
   "metadata": {},
   "source": [
    "-\tWe can calculate the difference in purchase rates between customers who had 3 number_of_pairs with ones who had 5.\n",
    "\n",
    "```mysql\n",
    "WITH funnels AS (SELECT DISTINCT q.user_id,\n",
    " h.user_id IS NOT NULL AS \"is_home_try_on\",\n",
    " h.number_of_pairs,\n",
    " p.user_id IS NOT NULL AS \"is_purchase\"\n",
    "FROM quiz AS \"q\"\n",
    "LEFT JOIN home_try_on AS \"h\"\n",
    "ON q.user_id = h.user_id\n",
    "LEFT JOIN purchase AS \"p\"\n",
    "ON q.user_id = p.user_id)\n",
    "SELECT number_of_pairs,\n",
    "COUNT(user_id) AS \"customers\", SUM(is_home_try_on) AS \"home_try_on\",\n",
    "SUM(is_purchase) AS \"purchase\",\n",
    "1.0 * SUM(is_purchase) / SUM(is_home_try_on) AS \"home_try_purchase\"\n",
    "FROM funnels\n",
    "GROUP BY 1\n",
    "ORDER BY 1;\n",
    "```\n",
    "![image09](images/image09.png)"
   ]
  },
  {
   "cell_type": "markdown",
   "metadata": {},
   "source": [
    "We can also use the original tables to calculate things like:\n",
    "-\tThe most common results of the style quiz.\n",
    "\n",
    "```mysql\n",
    "SELECT DISTINCT question,\n",
    "MAX(mycount) as \"number\",\n",
    "response AS \" most popular reponse\"\n",
    "FROM(SELECT question,\n",
    "Response,\n",
    "COUNT(response) AS \"mycount\"\n",
    "FROM survey\n",
    "GROUP BY 2)\n",
    "GROUP BY 1;\n",
    "```\n",
    "\n",
    "![image10](images/image10.png)"
   ]
  },
  {
   "cell_type": "markdown",
   "metadata": {},
   "source": [
    "-\tThe most common types of purchase made.\n",
    "\n",
    "```mysql\n",
    "SELECT model_name,\n",
    "  color,\n",
    "  count (color) AS \"purchases\"\n",
    "FROM purchase\n",
    "GROUP BY model_name\n",
    "ORDER BY 3 DESC;\n",
    "```\n",
    "![image11](images/image11.png)"
   ]
  }
 ],
 "metadata": {
  "kernelspec": {
   "display_name": "Python 3",
   "language": "python",
   "name": "python3"
  },
  "language_info": {
   "codemirror_mode": {
    "name": "ipython",
    "version": 3
   },
   "file_extension": ".py",
   "mimetype": "text/x-python",
   "name": "python",
   "nbconvert_exporter": "python",
   "pygments_lexer": "ipython3",
   "version": "3.7.0"
  }
 },
 "nbformat": 4,
 "nbformat_minor": 2
}
